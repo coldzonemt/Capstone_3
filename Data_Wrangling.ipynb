{
 "cells": [
  {
   "cell_type": "markdown",
   "id": "15e0093a-4e3e-456c-9204-33ad54f6e7b1",
   "metadata": {},
   "source": [
    "## Some resources for book data: \n",
    "\n",
    "- https://www.kaggle.com/datasets/saurabhbagchi/books-dataset\n",
    "- https://www.kaggle.com/datasets/jealousleopard/goodreadsbooks\n",
    "- https://www.kaggle.com/datasets/abdallahwagih/books-dataset\n",
    "\n",
    "### Actual APIs\n",
    "- https://developers.google.com/books/docs/v1/using\n",
    "- https://openlibrary.org/dev/docs/api/books\n",
    "- https://developer.nytimes.com/docs/books-product/1/overview\n",
    "- https://isbndb.com/blog/book-api/"
   ]
  },
  {
   "cell_type": "code",
   "execution_count": 31,
   "id": "dafa4ab0-0461-4650-bf73-f3d4cde69fef",
   "metadata": {},
   "outputs": [],
   "source": [
    "import pandas as pd\n",
    "import numpy as np\n",
    "import matplotlib.pyplot as plt\n",
    "import seaborn as sns\n",
    "\n",
    "import requests\n",
    "import json\n",
    "\n",
    "from library.sb_utils import save_file"
   ]
  },
  {
   "cell_type": "code",
   "execution_count": 2,
   "id": "ef35b82f-3c79-430b-9c64-ea2a1a9f9ee3",
   "metadata": {},
   "outputs": [
    {
     "data": {
      "text/html": [
       "<div>\n",
       "<style scoped>\n",
       "    .dataframe tbody tr th:only-of-type {\n",
       "        vertical-align: middle;\n",
       "    }\n",
       "\n",
       "    .dataframe tbody tr th {\n",
       "        vertical-align: top;\n",
       "    }\n",
       "\n",
       "    .dataframe thead th {\n",
       "        text-align: right;\n",
       "    }\n",
       "</style>\n",
       "<table border=\"1\" class=\"dataframe\">\n",
       "  <thead>\n",
       "    <tr style=\"text-align: right;\">\n",
       "      <th></th>\n",
       "      <th>isbn13</th>\n",
       "      <th>isbn10</th>\n",
       "      <th>title</th>\n",
       "      <th>subtitle</th>\n",
       "      <th>authors</th>\n",
       "      <th>categories</th>\n",
       "      <th>thumbnail</th>\n",
       "      <th>description</th>\n",
       "      <th>published_year</th>\n",
       "      <th>average_rating</th>\n",
       "      <th>num_pages</th>\n",
       "      <th>ratings_count</th>\n",
       "    </tr>\n",
       "  </thead>\n",
       "  <tbody>\n",
       "    <tr>\n",
       "      <th>0</th>\n",
       "      <td>9780002005883</td>\n",
       "      <td>0002005883</td>\n",
       "      <td>Gilead</td>\n",
       "      <td>NaN</td>\n",
       "      <td>Marilynne Robinson</td>\n",
       "      <td>Fiction</td>\n",
       "      <td>http://books.google.com/books/content?id=KQZCP...</td>\n",
       "      <td>A NOVEL THAT READERS and critics have been eag...</td>\n",
       "      <td>2004.0</td>\n",
       "      <td>3.85</td>\n",
       "      <td>247.0</td>\n",
       "      <td>361.0</td>\n",
       "    </tr>\n",
       "    <tr>\n",
       "      <th>1</th>\n",
       "      <td>9780002261982</td>\n",
       "      <td>0002261987</td>\n",
       "      <td>Spider's Web</td>\n",
       "      <td>A Novel</td>\n",
       "      <td>Charles Osborne;Agatha Christie</td>\n",
       "      <td>Detective and mystery stories</td>\n",
       "      <td>http://books.google.com/books/content?id=gA5GP...</td>\n",
       "      <td>A new 'Christie for Christmas' -- a full-lengt...</td>\n",
       "      <td>2000.0</td>\n",
       "      <td>3.83</td>\n",
       "      <td>241.0</td>\n",
       "      <td>5164.0</td>\n",
       "    </tr>\n",
       "    <tr>\n",
       "      <th>2</th>\n",
       "      <td>9780006163831</td>\n",
       "      <td>0006163831</td>\n",
       "      <td>The One Tree</td>\n",
       "      <td>NaN</td>\n",
       "      <td>Stephen R. Donaldson</td>\n",
       "      <td>American fiction</td>\n",
       "      <td>http://books.google.com/books/content?id=OmQaw...</td>\n",
       "      <td>Volume Two of Stephen Donaldson's acclaimed se...</td>\n",
       "      <td>1982.0</td>\n",
       "      <td>3.97</td>\n",
       "      <td>479.0</td>\n",
       "      <td>172.0</td>\n",
       "    </tr>\n",
       "    <tr>\n",
       "      <th>3</th>\n",
       "      <td>9780006178736</td>\n",
       "      <td>0006178731</td>\n",
       "      <td>Rage of angels</td>\n",
       "      <td>NaN</td>\n",
       "      <td>Sidney Sheldon</td>\n",
       "      <td>Fiction</td>\n",
       "      <td>http://books.google.com/books/content?id=FKo2T...</td>\n",
       "      <td>A memorable, mesmerizing heroine Jennifer -- b...</td>\n",
       "      <td>1993.0</td>\n",
       "      <td>3.93</td>\n",
       "      <td>512.0</td>\n",
       "      <td>29532.0</td>\n",
       "    </tr>\n",
       "    <tr>\n",
       "      <th>4</th>\n",
       "      <td>9780006280897</td>\n",
       "      <td>0006280897</td>\n",
       "      <td>The Four Loves</td>\n",
       "      <td>NaN</td>\n",
       "      <td>Clive Staples Lewis</td>\n",
       "      <td>Christian life</td>\n",
       "      <td>http://books.google.com/books/content?id=XhQ5X...</td>\n",
       "      <td>Lewis' work on the nature of love divides love...</td>\n",
       "      <td>2002.0</td>\n",
       "      <td>4.15</td>\n",
       "      <td>170.0</td>\n",
       "      <td>33684.0</td>\n",
       "    </tr>\n",
       "  </tbody>\n",
       "</table>\n",
       "</div>"
      ],
      "text/plain": [
       "          isbn13      isbn10           title subtitle  \\\n",
       "0  9780002005883  0002005883          Gilead      NaN   \n",
       "1  9780002261982  0002261987    Spider's Web  A Novel   \n",
       "2  9780006163831  0006163831    The One Tree      NaN   \n",
       "3  9780006178736  0006178731  Rage of angels      NaN   \n",
       "4  9780006280897  0006280897  The Four Loves      NaN   \n",
       "\n",
       "                           authors                     categories  \\\n",
       "0               Marilynne Robinson                        Fiction   \n",
       "1  Charles Osborne;Agatha Christie  Detective and mystery stories   \n",
       "2             Stephen R. Donaldson               American fiction   \n",
       "3                   Sidney Sheldon                        Fiction   \n",
       "4              Clive Staples Lewis                 Christian life   \n",
       "\n",
       "                                           thumbnail  \\\n",
       "0  http://books.google.com/books/content?id=KQZCP...   \n",
       "1  http://books.google.com/books/content?id=gA5GP...   \n",
       "2  http://books.google.com/books/content?id=OmQaw...   \n",
       "3  http://books.google.com/books/content?id=FKo2T...   \n",
       "4  http://books.google.com/books/content?id=XhQ5X...   \n",
       "\n",
       "                                         description  published_year  \\\n",
       "0  A NOVEL THAT READERS and critics have been eag...          2004.0   \n",
       "1  A new 'Christie for Christmas' -- a full-lengt...          2000.0   \n",
       "2  Volume Two of Stephen Donaldson's acclaimed se...          1982.0   \n",
       "3  A memorable, mesmerizing heroine Jennifer -- b...          1993.0   \n",
       "4  Lewis' work on the nature of love divides love...          2002.0   \n",
       "\n",
       "   average_rating  num_pages  ratings_count  \n",
       "0            3.85      247.0          361.0  \n",
       "1            3.83      241.0         5164.0  \n",
       "2            3.97      479.0          172.0  \n",
       "3            3.93      512.0        29532.0  \n",
       "4            4.15      170.0        33684.0  "
      ]
     },
     "execution_count": 2,
     "metadata": {},
     "output_type": "execute_result"
    }
   ],
   "source": [
    "# data source: https://www.kaggle.com/datasets/jealousleopard/goodreadsbooks\n",
    "df = pd.read_csv('./data/data.csv')\n",
    "df.head()"
   ]
  },
  {
   "cell_type": "code",
   "execution_count": 3,
   "id": "075951fc-70c0-418a-940d-dd329eb65b3d",
   "metadata": {},
   "outputs": [
    {
     "data": {
      "text/plain": [
       "(6810, 12)"
      ]
     },
     "execution_count": 3,
     "metadata": {},
     "output_type": "execute_result"
    }
   ],
   "source": [
    "df.shape"
   ]
  },
  {
   "cell_type": "code",
   "execution_count": 4,
   "id": "2b0c060f-a882-4b6b-81f8-bb5400b067ef",
   "metadata": {},
   "outputs": [
    {
     "data": {
      "text/plain": [
       "0                          Gilead\n",
       "1                    Spider's Web\n",
       "2                    The One Tree\n",
       "3                  Rage of angels\n",
       "4                  The Four Loves\n",
       "                  ...            \n",
       "6805                    I Am that\n",
       "6806         Secrets Of The Heart\n",
       "6807               Fahrenheit 451\n",
       "6808     The Berlin Phenomenology\n",
       "6809    'I'm Telling You Stories'\n",
       "Name: title, Length: 6810, dtype: object"
      ]
     },
     "execution_count": 4,
     "metadata": {},
     "output_type": "execute_result"
    }
   ],
   "source": [
    "df.title"
   ]
  },
  {
   "cell_type": "code",
   "execution_count": 5,
   "id": "e64e3719-1c45-4fba-82ee-b9f4455511a5",
   "metadata": {},
   "outputs": [
    {
     "data": {
      "text/plain": [
       "isbn13               0\n",
       "isbn10               0\n",
       "title                0\n",
       "subtitle          4429\n",
       "authors             72\n",
       "categories          99\n",
       "thumbnail          329\n",
       "description        262\n",
       "published_year       6\n",
       "average_rating      43\n",
       "num_pages           43\n",
       "ratings_count       43\n",
       "dtype: int64"
      ]
     },
     "execution_count": 5,
     "metadata": {},
     "output_type": "execute_result"
    }
   ],
   "source": [
    "df.isna().sum()\n",
    "# Drop all rows that have an nan maybe keep subtitle"
   ]
  },
  {
   "cell_type": "code",
   "execution_count": 6,
   "id": "80ec23be-d776-44d3-9168-0e31d3cbbd1a",
   "metadata": {},
   "outputs": [],
   "source": [
    "# remove rows without authors, and also ... published_year? might be a lot of overlap\n",
    "# df.dropna(subset=['A'], inplace=True)\n",
    "df.dropna(subset=['authors', 'subtitle', \n",
    "                       'categories',\n",
    "                       'thumbnail',\n",
    "                       'description',\n",
    "                       'published_year',\n",
    "                       'average_rating',\n",
    "                       'num_pages',\n",
    "                       'ratings_count'],inplace=True)"
   ]
  },
  {
   "cell_type": "code",
   "execution_count": 7,
   "id": "7c8164a0-8ed4-44d0-96ef-09c77c8d0419",
   "metadata": {},
   "outputs": [
    {
     "data": {
      "text/plain": [
       "(2182, 12)"
      ]
     },
     "execution_count": 7,
     "metadata": {},
     "output_type": "execute_result"
    }
   ],
   "source": [
    "df.shape"
   ]
  },
  {
   "cell_type": "code",
   "execution_count": 8,
   "id": "f3ae7224-b69d-42ae-8704-c3ded017ba41",
   "metadata": {},
   "outputs": [
    {
     "data": {
      "text/html": [
       "<div>\n",
       "<style scoped>\n",
       "    .dataframe tbody tr th:only-of-type {\n",
       "        vertical-align: middle;\n",
       "    }\n",
       "\n",
       "    .dataframe tbody tr th {\n",
       "        vertical-align: top;\n",
       "    }\n",
       "\n",
       "    .dataframe thead th {\n",
       "        text-align: right;\n",
       "    }\n",
       "</style>\n",
       "<table border=\"1\" class=\"dataframe\">\n",
       "  <thead>\n",
       "    <tr style=\"text-align: right;\">\n",
       "      <th></th>\n",
       "      <th>isbn13</th>\n",
       "      <th>isbn10</th>\n",
       "      <th>title</th>\n",
       "      <th>subtitle</th>\n",
       "      <th>authors</th>\n",
       "      <th>categories</th>\n",
       "      <th>thumbnail</th>\n",
       "      <th>description</th>\n",
       "      <th>published_year</th>\n",
       "      <th>average_rating</th>\n",
       "      <th>num_pages</th>\n",
       "      <th>ratings_count</th>\n",
       "    </tr>\n",
       "  </thead>\n",
       "  <tbody>\n",
       "    <tr>\n",
       "      <th>0</th>\n",
       "      <td>9780002261982</td>\n",
       "      <td>0002261987</td>\n",
       "      <td>Spider's Web</td>\n",
       "      <td>A Novel</td>\n",
       "      <td>Charles Osborne;Agatha Christie</td>\n",
       "      <td>Detective and mystery stories</td>\n",
       "      <td>http://books.google.com/books/content?id=gA5GP...</td>\n",
       "      <td>A new 'Christie for Christmas' -- a full-lengt...</td>\n",
       "      <td>2000.0</td>\n",
       "      <td>3.83</td>\n",
       "      <td>241.0</td>\n",
       "      <td>5164.0</td>\n",
       "    </tr>\n",
       "    <tr>\n",
       "      <th>1</th>\n",
       "      <td>9780006380832</td>\n",
       "      <td>0006380832</td>\n",
       "      <td>Empires of the Monsoon</td>\n",
       "      <td>A History of the Indian Ocean and Its Invaders</td>\n",
       "      <td>Richard Hall</td>\n",
       "      <td>Africa, East</td>\n",
       "      <td>http://books.google.com/books/content?id=MuPEQ...</td>\n",
       "      <td>Until Vasco da Gama discovered the sea-route t...</td>\n",
       "      <td>1998.0</td>\n",
       "      <td>4.41</td>\n",
       "      <td>608.0</td>\n",
       "      <td>65.0</td>\n",
       "    </tr>\n",
       "    <tr>\n",
       "      <th>2</th>\n",
       "      <td>9780006470229</td>\n",
       "      <td>000647022X</td>\n",
       "      <td>The Gap Into Madness</td>\n",
       "      <td>Chaos and Order</td>\n",
       "      <td>Stephen R. Donaldson</td>\n",
       "      <td>Hyland, Morn (Fictitious character)</td>\n",
       "      <td>http://books.google.com/books/content?id=4oXav...</td>\n",
       "      <td>A new-cover reissue of the fourth book in the ...</td>\n",
       "      <td>1994.0</td>\n",
       "      <td>4.15</td>\n",
       "      <td>743.0</td>\n",
       "      <td>103.0</td>\n",
       "    </tr>\n",
       "    <tr>\n",
       "      <th>3</th>\n",
       "      <td>9780006499626</td>\n",
       "      <td>0006499627</td>\n",
       "      <td>Miss Marple</td>\n",
       "      <td>The Complete Short Stories</td>\n",
       "      <td>Agatha Christie</td>\n",
       "      <td>Detective and mystery stories, English</td>\n",
       "      <td>http://books.google.com/books/content?id=a96qP...</td>\n",
       "      <td>Miss Marple featured in 20 short stories, publ...</td>\n",
       "      <td>1997.0</td>\n",
       "      <td>4.20</td>\n",
       "      <td>359.0</td>\n",
       "      <td>6235.0</td>\n",
       "    </tr>\n",
       "    <tr>\n",
       "      <th>4</th>\n",
       "      <td>9780006551812</td>\n",
       "      <td>0006551815</td>\n",
       "      <td>'Tis</td>\n",
       "      <td>A Memoir</td>\n",
       "      <td>Frank McCourt</td>\n",
       "      <td>Ireland</td>\n",
       "      <td>http://books.google.com/books/content?id=Q3BhQ...</td>\n",
       "      <td>FROM THE PULIZER PRIZE-WINNING AUTHOR OF THE #...</td>\n",
       "      <td>2000.0</td>\n",
       "      <td>3.68</td>\n",
       "      <td>495.0</td>\n",
       "      <td>44179.0</td>\n",
       "    </tr>\n",
       "    <tr>\n",
       "      <th>5</th>\n",
       "      <td>9780006754893</td>\n",
       "      <td>0006754899</td>\n",
       "      <td>A Small Pinch of Weather</td>\n",
       "      <td>And Other Stories</td>\n",
       "      <td>Joan Aiken</td>\n",
       "      <td>Children's stories, English</td>\n",
       "      <td>http://books.google.com/books/content?id=QiFhO...</td>\n",
       "      <td>A magical and fantastic collection of early st...</td>\n",
       "      <td>2000.0</td>\n",
       "      <td>4.27</td>\n",
       "      <td>239.0</td>\n",
       "      <td>116.0</td>\n",
       "    </tr>\n",
       "    <tr>\n",
       "      <th>6</th>\n",
       "      <td>9780007105045</td>\n",
       "      <td>0007105045</td>\n",
       "      <td>Tree and Leaf</td>\n",
       "      <td>The Homecoming of Beorhtnoth : Beorhthelm's Son</td>\n",
       "      <td>John Ronald Reuel Tolkien</td>\n",
       "      <td>Literary Collections</td>\n",
       "      <td>http://books.google.com/books/content?id=aPb_A...</td>\n",
       "      <td>\"The two works 'On fairy-stories' and 'Leaf by...</td>\n",
       "      <td>2001.0</td>\n",
       "      <td>4.09</td>\n",
       "      <td>176.0</td>\n",
       "      <td>2245.0</td>\n",
       "    </tr>\n",
       "    <tr>\n",
       "      <th>7</th>\n",
       "      <td>9780007116263</td>\n",
       "      <td>0007116268</td>\n",
       "      <td>The Lord of the Rings, the Return of the King</td>\n",
       "      <td>Visual Companion</td>\n",
       "      <td>Jude Fisher</td>\n",
       "      <td>Imaginary wars and battles</td>\n",
       "      <td>http://books.google.com/books/content?id=kNBnQ...</td>\n",
       "      <td>A visual guide to the third in the Lord of the...</td>\n",
       "      <td>2003.0</td>\n",
       "      <td>4.59</td>\n",
       "      <td>72.0</td>\n",
       "      <td>22.0</td>\n",
       "    </tr>\n",
       "    <tr>\n",
       "      <th>8</th>\n",
       "      <td>9780007135653</td>\n",
       "      <td>0007135653</td>\n",
       "      <td>The Lord of the Rings</td>\n",
       "      <td>The Art of The Return of the King</td>\n",
       "      <td>Gary Russell</td>\n",
       "      <td>Characters and characteristics in motion pictures</td>\n",
       "      <td>http://books.google.com/books/content?id=oEZ6A...</td>\n",
       "      <td>With complete access to artwork created over a...</td>\n",
       "      <td>2004.0</td>\n",
       "      <td>4.54</td>\n",
       "      <td>224.0</td>\n",
       "      <td>28.0</td>\n",
       "    </tr>\n",
       "    <tr>\n",
       "      <th>9</th>\n",
       "      <td>9780007137336</td>\n",
       "      <td>0007137338</td>\n",
       "      <td>Lirael</td>\n",
       "      <td>Daughter of the Clayr</td>\n",
       "      <td>Garth Nix</td>\n",
       "      <td>Fantasy fiction</td>\n",
       "      <td>http://books.google.com/books/content?id=sDzU8...</td>\n",
       "      <td>When a dangerous necromancer threatens to unle...</td>\n",
       "      <td>2004.0</td>\n",
       "      <td>4.30</td>\n",
       "      <td>527.0</td>\n",
       "      <td>1339.0</td>\n",
       "    </tr>\n",
       "  </tbody>\n",
       "</table>\n",
       "</div>"
      ],
      "text/plain": [
       "          isbn13      isbn10                                          title  \\\n",
       "0  9780002261982  0002261987                                   Spider's Web   \n",
       "1  9780006380832  0006380832                         Empires of the Monsoon   \n",
       "2  9780006470229  000647022X                           The Gap Into Madness   \n",
       "3  9780006499626  0006499627                                    Miss Marple   \n",
       "4  9780006551812  0006551815                                           'Tis   \n",
       "5  9780006754893  0006754899                       A Small Pinch of Weather   \n",
       "6  9780007105045  0007105045                                  Tree and Leaf   \n",
       "7  9780007116263  0007116268  The Lord of the Rings, the Return of the King   \n",
       "8  9780007135653  0007135653                          The Lord of the Rings   \n",
       "9  9780007137336  0007137338                                         Lirael   \n",
       "\n",
       "                                          subtitle  \\\n",
       "0                                          A Novel   \n",
       "1   A History of the Indian Ocean and Its Invaders   \n",
       "2                                  Chaos and Order   \n",
       "3                       The Complete Short Stories   \n",
       "4                                         A Memoir   \n",
       "5                                And Other Stories   \n",
       "6  The Homecoming of Beorhtnoth : Beorhthelm's Son   \n",
       "7                                 Visual Companion   \n",
       "8                The Art of The Return of the King   \n",
       "9                            Daughter of the Clayr   \n",
       "\n",
       "                           authors  \\\n",
       "0  Charles Osborne;Agatha Christie   \n",
       "1                     Richard Hall   \n",
       "2             Stephen R. Donaldson   \n",
       "3                  Agatha Christie   \n",
       "4                    Frank McCourt   \n",
       "5                       Joan Aiken   \n",
       "6        John Ronald Reuel Tolkien   \n",
       "7                      Jude Fisher   \n",
       "8                     Gary Russell   \n",
       "9                        Garth Nix   \n",
       "\n",
       "                                          categories  \\\n",
       "0                      Detective and mystery stories   \n",
       "1                                       Africa, East   \n",
       "2                Hyland, Morn (Fictitious character)   \n",
       "3             Detective and mystery stories, English   \n",
       "4                                            Ireland   \n",
       "5                        Children's stories, English   \n",
       "6                               Literary Collections   \n",
       "7                         Imaginary wars and battles   \n",
       "8  Characters and characteristics in motion pictures   \n",
       "9                                    Fantasy fiction   \n",
       "\n",
       "                                           thumbnail  \\\n",
       "0  http://books.google.com/books/content?id=gA5GP...   \n",
       "1  http://books.google.com/books/content?id=MuPEQ...   \n",
       "2  http://books.google.com/books/content?id=4oXav...   \n",
       "3  http://books.google.com/books/content?id=a96qP...   \n",
       "4  http://books.google.com/books/content?id=Q3BhQ...   \n",
       "5  http://books.google.com/books/content?id=QiFhO...   \n",
       "6  http://books.google.com/books/content?id=aPb_A...   \n",
       "7  http://books.google.com/books/content?id=kNBnQ...   \n",
       "8  http://books.google.com/books/content?id=oEZ6A...   \n",
       "9  http://books.google.com/books/content?id=sDzU8...   \n",
       "\n",
       "                                         description  published_year  \\\n",
       "0  A new 'Christie for Christmas' -- a full-lengt...          2000.0   \n",
       "1  Until Vasco da Gama discovered the sea-route t...          1998.0   \n",
       "2  A new-cover reissue of the fourth book in the ...          1994.0   \n",
       "3  Miss Marple featured in 20 short stories, publ...          1997.0   \n",
       "4  FROM THE PULIZER PRIZE-WINNING AUTHOR OF THE #...          2000.0   \n",
       "5  A magical and fantastic collection of early st...          2000.0   \n",
       "6  \"The two works 'On fairy-stories' and 'Leaf by...          2001.0   \n",
       "7  A visual guide to the third in the Lord of the...          2003.0   \n",
       "8  With complete access to artwork created over a...          2004.0   \n",
       "9  When a dangerous necromancer threatens to unle...          2004.0   \n",
       "\n",
       "   average_rating  num_pages  ratings_count  \n",
       "0            3.83      241.0         5164.0  \n",
       "1            4.41      608.0           65.0  \n",
       "2            4.15      743.0          103.0  \n",
       "3            4.20      359.0         6235.0  \n",
       "4            3.68      495.0        44179.0  \n",
       "5            4.27      239.0          116.0  \n",
       "6            4.09      176.0         2245.0  \n",
       "7            4.59       72.0           22.0  \n",
       "8            4.54      224.0           28.0  \n",
       "9            4.30      527.0         1339.0  "
      ]
     },
     "execution_count": 8,
     "metadata": {},
     "output_type": "execute_result"
    }
   ],
   "source": [
    "df.reset_index(drop=True, inplace=True)\n",
    "df.head(10)\n"
   ]
  },
  {
   "cell_type": "code",
   "execution_count": 9,
   "id": "259c84c0-b49c-40e9-9190-22c7ddc72f9c",
   "metadata": {},
   "outputs": [
    {
     "data": {
      "text/plain": [
       "count    2182.000000\n",
       "mean     1999.900092\n",
       "std         8.613783\n",
       "min      1925.000000\n",
       "25%      1998.000000\n",
       "50%      2002.000000\n",
       "75%      2005.000000\n",
       "max      2019.000000\n",
       "Name: published_year, dtype: float64"
      ]
     },
     "execution_count": 9,
     "metadata": {},
     "output_type": "execute_result"
    }
   ],
   "source": [
    "df.published_year.describe()"
   ]
  },
  {
   "cell_type": "code",
   "execution_count": 10,
   "id": "bbb0034a-8daa-48c3-9841-948d9b77d222",
   "metadata": {},
   "outputs": [
    {
     "data": {
      "text/plain": [
       "<Axes: xlabel='published_year', ylabel='Count'>"
      ]
     },
     "execution_count": 10,
     "metadata": {},
     "output_type": "execute_result"
    },
    {
     "data": {
      "image/png": "[encoded data removed]",
      "text/plain": [
       "<Figure size 640x480 with 1 Axes>"
      ]
     },
     "metadata": {},
     "output_type": "display_data"
    }
   ],
   "source": [
    "# plot a hist of publication years\n",
    "sns.histplot(data = df, x = 'published_year')"
   ]
  },
  {
   "cell_type": "code",
   "execution_count": 11,
   "id": "9406f334-f5bd-4898-9888-d728e20ab472",
   "metadata": {},
   "outputs": [
    {
     "data": {
      "text/plain": [
       "count    2182.000000\n",
       "mean        3.945761\n",
       "std         0.331848\n",
       "min         0.000000\n",
       "25%         3.770000\n",
       "50%         3.980000\n",
       "75%         4.150000\n",
       "max         5.000000\n",
       "Name: average_rating, dtype: float64"
      ]
     },
     "execution_count": 11,
     "metadata": {},
     "output_type": "execute_result"
    }
   ],
   "source": [
    "df.average_rating.describe()"
   ]
  },
  {
   "cell_type": "code",
   "execution_count": 12,
   "id": "74dd1e72-06f7-4ed4-b88f-4def4d94a78f",
   "metadata": {},
   "outputs": [
    {
     "data": {
      "text/plain": [
       "<Axes: xlabel='average_rating', ylabel='Count'>"
      ]
     },
     "execution_count": 12,
     "metadata": {},
     "output_type": "execute_result"
    },
    {
     "data": {
      "image/png": "[encoded data removed]",
      "text/plain": [
       "<Figure size 640x480 with 1 Axes>"
      ]
     },
     "metadata": {},
     "output_type": "display_data"
    }
   ],
   "source": [
    "# plot hist of average_ratings\n",
    "sns.histplot(data = df, x = 'average_rating')"
   ]
  },
  {
   "cell_type": "code",
   "execution_count": 13,
   "id": "e55d09fb-f8e6-41b8-aeea-ad4ea4664f5a",
   "metadata": {},
   "outputs": [
    {
     "data": {
      "text/plain": [
       "count    2182.000000\n",
       "mean      352.815307\n",
       "std       238.069494\n",
       "min         0.000000\n",
       "25%       224.000000\n",
       "50%       310.000000\n",
       "75%       416.750000\n",
       "max      3342.000000\n",
       "Name: num_pages, dtype: float64"
      ]
     },
     "execution_count": 13,
     "metadata": {},
     "output_type": "execute_result"
    }
   ],
   "source": [
    "df.num_pages.describe()"
   ]
  },
  {
   "cell_type": "code",
   "execution_count": 14,
   "id": "d64f2ef0-c340-42d0-8a14-9da350165e0d",
   "metadata": {},
   "outputs": [
    {
     "data": {
      "text/plain": [
       "<Axes: xlabel='num_pages', ylabel='Count'>"
      ]
     },
     "execution_count": 14,
     "metadata": {},
     "output_type": "execute_result"
    },
    {
     "data": {
      "image/png": "[encoded data removed]",
      "text/plain": [
       "<Figure size 640x480 with 1 Axes>"
      ]
     },
     "metadata": {},
     "output_type": "display_data"
    }
   ],
   "source": [
    "# hist of page number\n",
    "sns.histplot(data = df, x = 'num_pages')"
   ]
  },
  {
   "cell_type": "code",
   "execution_count": 15,
   "id": "74a4082b-9a0a-4985-9c40-689cf06cbe64",
   "metadata": {},
   "outputs": [
    {
     "data": {
      "text/plain": [
       "<bound method NDFrame.describe of 0        5164.0\n",
       "1          65.0\n",
       "2         103.0\n",
       "3        6235.0\n",
       "4       44179.0\n",
       "         ...   \n",
       "2177      373.0\n",
       "2178       65.0\n",
       "2179       27.0\n",
       "2180      104.0\n",
       "2181       10.0\n",
       "Name: ratings_count, Length: 2182, dtype: float64>"
      ]
     },
     "execution_count": 15,
     "metadata": {},
     "output_type": "execute_result"
    }
   ],
   "source": [
    "df['ratings_count'].describe"
   ]
  },
  {
   "cell_type": "code",
   "execution_count": 16,
   "id": "5c746ddd-08a9-4fb3-8461-935d516d58a8",
   "metadata": {},
   "outputs": [
    {
     "data": {
      "image/png": "[encoded data removed]",
      "text/plain": [
       "<Figure size 640x480 with 1 Axes>"
      ]
     },
     "metadata": {},
     "output_type": "display_data"
    }
   ],
   "source": [
    "sns.boxplot(data = df, x = 'ratings_count');\n",
    "# This makes about as much sense as the hist plot, but does a better job of highlighting the outliers and where they fall."
   ]
  },
  {
   "cell_type": "code",
   "execution_count": 17,
   "id": "67047e2a-a2b4-42f8-97ca-5d8be1cd5ddd",
   "metadata": {},
   "outputs": [
    {
     "data": {
      "image/png": "[encoded data removed]",
      "text/plain": [
       "<Figure size 640x480 with 1 Axes>"
      ]
     },
     "metadata": {},
     "output_type": "display_data"
    }
   ],
   "source": [
    "# Some extreme outliers here, including very few 0 star reviews, and then a huge gap until 2.5 stars. Some of these books are very \n",
    "# commonly rated - can I include number of reviews in the model somehow? \n",
    "sns.scatterplot(x=df.average_rating, y=df.ratings_count);"
   ]
  },
  {
   "cell_type": "code",
   "execution_count": 18,
   "id": "0a0b9bf3-e90c-4e0d-9ec2-4aaa88fe5526",
   "metadata": {},
   "outputs": [
    {
     "data": {
      "image/png": "[encoded data removed]",
      "text/plain": [
       "<Figure size 640x480 with 1 Axes>"
      ]
     },
     "metadata": {},
     "output_type": "display_data"
    }
   ],
   "source": [
    "# plot a scatter plot of num_pages vs ratings\n",
    "# Interesting potential correlation - I guess if someone sticks around for more than 1000 pages they are more likely to highly rate the book\n",
    "sns.scatterplot(x=df.average_rating, y=df.num_pages);"
   ]
  },
  {
   "cell_type": "code",
   "execution_count": 19,
   "id": "3399d7a3-1a0c-4c39-9ede-080e1b144753",
   "metadata": {},
   "outputs": [
    {
     "data": {
      "text/plain": [
       "array(['Detective and mystery stories', 'Africa, East',\n",
       "       'Hyland, Morn (Fictitious character)',\n",
       "       'Detective and mystery stories, English', 'Ireland',\n",
       "       \"Children's stories, English\", 'Literary Collections',\n",
       "       'Imaginary wars and battles',\n",
       "       'Characters and characteristics in motion pictures',\n",
       "       'Fantasy fiction', 'Hallucinogenic drugs', 'Fiction',\n",
       "       'Baggins, Frodo (Fictitious character)', 'Authors',\n",
       "       'Conduct of life', 'Alienation (Social psychology)', 'Cowboys',\n",
       "       'History', 'Juvenile Fiction', 'Literary Criticism', 'Science',\n",
       "       'Biography & Autobiography', 'Family & Relationships',\n",
       "       'Juvenile Nonfiction', 'Business & Economics', 'Poetry',\n",
       "       'Self-Help', 'Sports & Recreation', 'True Crime', 'Psychology',\n",
       "       'Religion', 'Travel', 'Social Science', 'Health & Fitness',\n",
       "       'Music', 'Political science', 'Medical', 'Philosophy',\n",
       "       'Body, Mind & Spirit', 'Language Arts & Disciplines', 'Education',\n",
       "       'Political Science', 'Antiques & Collectibles', 'Reference',\n",
       "       'Humor', 'Physicists', 'American fiction', 'American literature',\n",
       "       'Anger', 'Comedy', 'Gangs', 'Short stories, American', 'Cults',\n",
       "       'Computers', 'Mathematics', 'Art', 'Existential psychotherapy',\n",
       "       'Drama', 'BIOGRAPHY & AUTOBIOGRAPHY', 'Humorous stories, English',\n",
       "       'High schools', 'Dead', 'Families', 'American wit and humor',\n",
       "       'Novelists, American', 'Men', 'French drama', 'Classical fiction',\n",
       "       'Authors, English', 'Design', 'Adult children', 'Pets',\n",
       "       'Authors, American', 'Performing Arts', 'Cancer',\n",
       "       'Erinyes (Greek mythology)', 'Greek drama (Tragedy)',\n",
       "       'English fiction', 'Beowulf', 'Zero (The number)', 'Photography',\n",
       "       'Art museum curators', 'Cooking', 'Bibles', 'Adultery', 'Nature',\n",
       "       'Literary Criticism & Collections', 'Young Adult Fiction',\n",
       "       'Diary fiction', 'British', 'Bail bond agents', 'Catholics',\n",
       "       'Political leadership', 'Bosnia and Hercegovina',\n",
       "       'Mormon fundamentalism', 'India', 'Paris (France)', 'Books',\n",
       "       'FICTION', 'Antisemitism', 'Popular culture', 'Great Britain',\n",
       "       'Apartheid', 'Gardening', 'Cooking, French',\n",
       "       'Comics & Graphic Novels', 'Bible', 'Short stories',\n",
       "       'Foreign Language Study', 'Horror stories', 'Trials (Witchcraft)',\n",
       "       'Ghost stories', 'Law', 'Architecture', 'Fairy tales',\n",
       "       'Cider house rules. (Motion picture)', 'Apprentices',\n",
       "       'Manuscripts', 'Amazon River Region', 'Latin poetry',\n",
       "       'Polish poetry', 'Poets, American',\n",
       "       'Englisch - Geschichte - Lyrik - Aufsatzsammlung',\n",
       "       'Black humor (Literature)', 'Discworld (Imaginary place)',\n",
       "       'Folklore', 'English language', 'Sexual behavior surveys',\n",
       "       'Espionage', \"Children's stories\", 'Electronic books',\n",
       "       'Alcestis (Greek mythology)', 'Sex customs',\n",
       "       'Technology & Engineering', 'Essentialism (Philosophy)',\n",
       "       'Music trade', 'Computer science', 'Democracy', 'Americans',\n",
       "       'Reducing diets', 'Fantasy fiction, American', 'Adventure stories',\n",
       "       'Explorers', 'Love', 'Games & Activities', 'Games',\n",
       "       'Language and languages', 'Film producers and directors',\n",
       "       'American wit and humor, Pictorial',\n",
       "       'Amyotrophic lateral sclerosis', 'Cats', 'Magic', 'Transportation',\n",
       "       'Finance, Personal', 'JUVENILE FICTION', 'Canada',\n",
       "       'Insane, Criminal and dangerous', 'Study Aids',\n",
       "       'Detective and mystery comic books, strips, etc',\n",
       "       'Theology, Doctrinal', 'Bumppo, Natty (Fictitious character)',\n",
       "       'Illinois', 'Humorous stories, American', 'Europe', 'Black market',\n",
       "       'Shipwrecks', 'Cerebrovascular disease', 'Cities and towns',\n",
       "       'Botanique', 'American poetry', 'House & Home', 'Crafts & Hobbies',\n",
       "       'Building laws', 'LITERARY CRITICISM',\n",
       "       'Human-animal relationships', 'Church work with the poor',\n",
       "       'Death (Fictitious character : Gaiman)', 'Astronomers', 'Girls',\n",
       "       'Otherland (Imaginary place)', 'Consumer behavior',\n",
       "       'Authors, Arab', 'Everest, Mount (China and Nepal)',\n",
       "       'Boats and boating', 'Minimal brain dysfunction in children',\n",
       "       'Spiritual life', 'Meditation'], dtype=object)"
      ]
     },
     "execution_count": 19,
     "metadata": {},
     "output_type": "execute_result"
    }
   ],
   "source": [
    "df.categories.unique()\n",
    "# wow some of these categories are very specific, e.g., 'Estados Unidos - Relaciones exteriores - 1945-1989' or 'Building laws'\n",
    "# keep just in case for llm analysis - consider keywords"
   ]
  },
  {
   "cell_type": "code",
   "execution_count": 20,
   "id": "f413859a-d0a1-4b6c-8153-cbc3676f7b8b",
   "metadata": {},
   "outputs": [
    {
     "data": {
      "text/plain": [
       "\"A new 'Christie for Christmas' -- a full-length novel adapted from her acclaimed play by Charles Osborne Following BLACK COFFEE and THE UNEXPECTED GUEST comes the final Agatha Christie play novelisation, bringing her superb storytelling to a new legion of fans. Clarissa, the wife of a Foreign Office diplomat, is given to daydreaming. 'Supposing I were to come down one morning and find a dead body in the library, what should I do?' she muses. Clarissa has her chance to find out when she discovers a body in the drawing-room of her house in Kent. Desperate to dispose of the body before her husband comes home with an important foreign politician, Clarissa persuades her three house guests to become accessories and accomplices. It seems that the murdered man was not unknown to certain members of the house party (but which ones?), and the search begins for the murderer and the motive, while at the same time trying to persuade a police inspector that there has been no murder at all... SPIDER'S WEB was written in 1954 specifically for Margaret Lockwood and opened first at the Theatre Royal Nottingham before moving to the Savoy Theatre in London on 14 December 1954. With THE MOUSETRAP and WI\""
      ]
     },
     "execution_count": 20,
     "metadata": {},
     "output_type": "execute_result"
    }
   ],
   "source": [
    "# An example of a description - possibly good text to mine for a recommendation, in conjunction with reviews\n",
    "df.description[0]"
   ]
  },
  {
   "cell_type": "code",
   "execution_count": 21,
   "id": "8eddeb46-a225-4049-ae12-8554c911bbac",
   "metadata": {},
   "outputs": [
    {
     "data": {
      "text/plain": [
       "'http://books.google.com/books/content?id=gA5GPgAACAAJ&printsec=frontcover&img=1&zoom=1&source=gbs_api'"
      ]
     },
     "execution_count": 21,
     "metadata": {},
     "output_type": "execute_result"
    }
   ],
   "source": [
    "url = df.thumbnail[0]\n",
    "url"
   ]
  },
  {
   "cell_type": "markdown",
   "id": "f44efa4f-8bbd-4001-a52f-f42dde550d03",
   "metadata": {},
   "source": [
    "![test thumbnail](http://books.google.com/books/content?id=gA5GPgAACAAJ&printsec=frontcover&img=1&zoom=1&source=gbs_api)"
   ]
  },
  {
   "cell_type": "code",
   "execution_count": 22,
   "id": "7ca6c21c-2776-4d18-9d32-4cbc823f695b",
   "metadata": {},
   "outputs": [
    {
     "data": {
      "text/plain": [
       "'http://books.google.com/books/content?id=MuPEQgAACAAJ&printsec=frontcover&img=1&zoom=1&source=gbs_api'"
      ]
     },
     "execution_count": 22,
     "metadata": {},
     "output_type": "execute_result"
    }
   ],
   "source": [
    "url_2 = df.thumbnail[1]\n",
    "url_2"
   ]
  },
  {
   "cell_type": "markdown",
   "id": "bdbe3d88-0878-4712-84cd-f25bede16a18",
   "metadata": {},
   "source": [
    "Cannot seem to use a variable, but have to put the url minus the quotes to get the image\n",
    "\n",
    "![second test image](http://books.google.com/books/content?id=MuPEQgAACAAJ&printsec=frontcover&img=1&zoom=1&source=gbs_api)"
   ]
  },
  {
   "cell_type": "code",
   "execution_count": 23,
   "id": "c6c070ab-bd8e-4ec3-affb-00027ce0ec97",
   "metadata": {},
   "outputs": [],
   "source": [
    "import os\n",
    "from dotenv import load_dotenv\n",
    "\n",
    "load_dotenv()\n",
    "NYT_API_KEY = os.getenv('NYT_API_KEY')"
   ]
  },
  {
   "cell_type": "code",
   "execution_count": 24,
   "id": "821e9e62-7da1-4cca-aab9-d381afc86be1",
   "metadata": {},
   "outputs": [
    {
     "name": "stdout",
     "output_type": "stream",
     "text": [
      "9BHVqSsbgbkBfyA1T7afMdvlK6qftDZu\n"
     ]
    }
   ],
   "source": [
    "print(NYT_API_KEY)"
   ]
  },
  {
   "cell_type": "code",
   "execution_count": 25,
   "id": "817d4670-1b3e-40b0-b91f-df9b24074245",
   "metadata": {},
   "outputs": [],
   "source": [
    "base_api = 'https://api.nytimes.com/svc/books/v3/'\n",
    "reviews = 'reviews.json?'\n",
    "lists = 'lists/current/hardcover-fiction.json'\n",
    "review_api_key = '&api-key=' + NYT_API_KEY\n",
    "list_api_key = '?api-key=' + NYT_API_KEY"
   ]
  },
  {
   "cell_type": "code",
   "execution_count": 26,
   "id": "155cab7f-7a0a-4010-851f-f72749d5ec89",
   "metadata": {},
   "outputs": [
    {
     "data": {
      "text/plain": [
       "'https://api.nytimes.com/svc/books/v3/reviews.json?title=Fahrenheit+451&api-key=9BHVqSsbgbkBfyA1T7afMdvlK6qftDZu'"
      ]
     },
     "execution_count": 26,
     "metadata": {},
     "output_type": "execute_result"
    }
   ],
   "source": [
    "books = base_api + reviews + 'title=Fahrenheit+451' + review_api_key\n",
    "books"
   ]
  },
  {
   "cell_type": "code",
   "execution_count": 27,
   "id": "5e214cef-61c1-4e73-9599-7980d4ef1eb5",
   "metadata": {},
   "outputs": [],
   "source": [
    "r = requests.get(books)"
   ]
  },
  {
   "cell_type": "code",
   "execution_count": 28,
   "id": "5865940b-c6b8-415b-9c26-99c8cc53da99",
   "metadata": {},
   "outputs": [
    {
     "name": "stdout",
     "output_type": "stream",
     "text": [
      "<class 'dict'>\n"
     ]
    },
    {
     "data": {
      "text/plain": [
       "{'status': 'OK',\n",
       " 'copyright': 'Copyright (c) 2025 The New York Times Company.  All Rights Reserved.',\n",
       " 'num_results': 1,\n",
       " 'results': [{'url': 'http://www.nytimes.com/2014/11/23/books/review/fahrenheit-451-read-by-tim-robbins.html',\n",
       "   'publication_dt': '2014-11-23',\n",
       "   'byline': 'DAVE ITZKOFF',\n",
       "   'book_title': 'Fahrenheit 451',\n",
       "   'book_author': 'Ray Bradbury',\n",
       "   'summary': 'Is “Fahrenheit 451” a parable about censorship or an indictment of the cultural distraction of technology?',\n",
       "   'uuid': '00000000-0000-0000-0000-000000000000',\n",
       "   'uri': 'nyt://book/00000000-0000-0000-0000-000000000000',\n",
       "   'isbn13': ['9781451673319']}]}"
      ]
     },
     "execution_count": 28,
     "metadata": {},
     "output_type": "execute_result"
    }
   ],
   "source": [
    "data = r.json()\n",
    "print(type(data))\n",
    "data"
   ]
  },
  {
   "cell_type": "markdown",
   "id": "9754d55f-5316-49ed-8a50-3a68d8c45b36",
   "metadata": {},
   "source": [
    "Notes: don't concatenate, merge if I bring in data from another source / api. Also keeping the NYT API example in case this or the Google API proves useful. "
   ]
  },
  {
   "cell_type": "code",
   "execution_count": null,
   "id": "7c2ea028-870a-4367-bda8-61567c742a42",
   "metadata": {},
   "outputs": [],
   "source": []
  },
  {
   "cell_type": "code",
   "execution_count": 29,
   "id": "54cb063b-b465-4296-8d6a-752dedd5aaa8",
   "metadata": {},
   "outputs": [
    {
     "data": {
      "text/plain": [
       "isbn13            0\n",
       "isbn10            0\n",
       "title             0\n",
       "subtitle          0\n",
       "authors           0\n",
       "categories        0\n",
       "thumbnail         0\n",
       "description       0\n",
       "published_year    0\n",
       "average_rating    0\n",
       "num_pages         0\n",
       "ratings_count     0\n",
       "dtype: int64"
      ]
     },
     "execution_count": 29,
     "metadata": {},
     "output_type": "execute_result"
    }
   ],
   "source": [
    "# export cleaned dataset\n",
    "df.isna().sum()"
   ]
  },
  {
   "cell_type": "code",
   "execution_count": 33,
   "id": "0d386545-428d-4651-84bb-07333ede1af0",
   "metadata": {},
   "outputs": [
    {
     "name": "stdout",
     "output_type": "stream",
     "text": [
      "Writing file.  \"./data/cleaned_df.csv\"\n"
     ]
    }
   ],
   "source": [
    "datapath = './data'\n",
    "save_file(df, 'cleaned_df.csv', datapath)"
   ]
  },
  {
   "cell_type": "code",
   "execution_count": null,
   "id": "76434c45-92d4-4f72-b9c0-306344960bc7",
   "metadata": {},
   "outputs": [],
   "source": []
  }
 ],
 "metadata": {
  "kernelspec": {
   "display_name": "Python 3 (ipykernel)",
   "language": "python",
   "name": "python3"
  },
  "language_info": {
   "codemirror_mode": {
    "name": "ipython",
    "version": 3
   },
   "file_extension": ".py",
   "mimetype": "text/x-python",
   "name": "python",
   "nbconvert_exporter": "python",
   "pygments_lexer": "ipython3",
   "version": "3.11.8"
  }
 },
 "nbformat": 4,
 "nbformat_minor": 5
}
