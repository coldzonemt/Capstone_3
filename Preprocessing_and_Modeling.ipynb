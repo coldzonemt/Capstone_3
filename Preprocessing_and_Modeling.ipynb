{
 "cells": [
  {
   "cell_type": "code",
   "execution_count": 1,
   "id": "cb2c9c0b-049f-491a-9a02-e20791241d50",
   "metadata": {},
   "outputs": [],
   "source": [
    "import pandas as pd\n",
    "import numpy as np"
   ]
  },
  {
   "cell_type": "code",
   "execution_count": 2,
   "id": "df3414dc-6746-4a50-8582-c0a2b2139925",
   "metadata": {},
   "outputs": [],
   "source": [
    "# Following the guide here: https://huggingface.co/learn/cookbook/en/rag_llamaindex_librarian\n",
    "# This also seems pretty simple, but does not use my dataset: \n",
    "# https://www.kdnuggets.com/building-a-recommendation-system-with-hugging-face-transformers\n"
   ]
  },
  {
   "cell_type": "code",
   "execution_count": 3,
   "id": "20dcd340-af6e-414d-a24c-7723c5f3f780",
   "metadata": {},
   "outputs": [],
   "source": [
    "df = pd.read_csv('./data/cleaned_df.csv')"
   ]
  },
  {
   "cell_type": "code",
   "execution_count": 4,
   "id": "4dbea56e-0d77-48d2-9c42-0642c35eccd5",
   "metadata": {},
   "outputs": [
    {
     "data": {
      "text/html": [
       "<div>\n",
       "<style scoped>\n",
       "    .dataframe tbody tr th:only-of-type {\n",
       "        vertical-align: middle;\n",
       "    }\n",
       "\n",
       "    .dataframe tbody tr th {\n",
       "        vertical-align: top;\n",
       "    }\n",
       "\n",
       "    .dataframe thead th {\n",
       "        text-align: right;\n",
       "    }\n",
       "</style>\n",
       "<table border=\"1\" class=\"dataframe\">\n",
       "  <thead>\n",
       "    <tr style=\"text-align: right;\">\n",
       "      <th></th>\n",
       "      <th>isbn13</th>\n",
       "      <th>isbn10</th>\n",
       "      <th>title</th>\n",
       "      <th>subtitle</th>\n",
       "      <th>authors</th>\n",
       "      <th>categories</th>\n",
       "      <th>thumbnail</th>\n",
       "      <th>description</th>\n",
       "      <th>published_year</th>\n",
       "      <th>average_rating</th>\n",
       "      <th>num_pages</th>\n",
       "      <th>ratings_count</th>\n",
       "    </tr>\n",
       "  </thead>\n",
       "  <tbody>\n",
       "    <tr>\n",
       "      <th>0</th>\n",
       "      <td>9780002261982</td>\n",
       "      <td>0002261987</td>\n",
       "      <td>Spider's Web</td>\n",
       "      <td>A Novel</td>\n",
       "      <td>Charles Osborne;Agatha Christie</td>\n",
       "      <td>Detective and mystery stories</td>\n",
       "      <td>http://books.google.com/books/content?id=gA5GP...</td>\n",
       "      <td>A new 'Christie for Christmas' -- a full-lengt...</td>\n",
       "      <td>2000.0</td>\n",
       "      <td>3.83</td>\n",
       "      <td>241.0</td>\n",
       "      <td>5164.0</td>\n",
       "    </tr>\n",
       "    <tr>\n",
       "      <th>1</th>\n",
       "      <td>9780006380832</td>\n",
       "      <td>0006380832</td>\n",
       "      <td>Empires of the Monsoon</td>\n",
       "      <td>A History of the Indian Ocean and Its Invaders</td>\n",
       "      <td>Richard Hall</td>\n",
       "      <td>Africa, East</td>\n",
       "      <td>http://books.google.com/books/content?id=MuPEQ...</td>\n",
       "      <td>Until Vasco da Gama discovered the sea-route t...</td>\n",
       "      <td>1998.0</td>\n",
       "      <td>4.41</td>\n",
       "      <td>608.0</td>\n",
       "      <td>65.0</td>\n",
       "    </tr>\n",
       "    <tr>\n",
       "      <th>2</th>\n",
       "      <td>9780006470229</td>\n",
       "      <td>000647022X</td>\n",
       "      <td>The Gap Into Madness</td>\n",
       "      <td>Chaos and Order</td>\n",
       "      <td>Stephen R. Donaldson</td>\n",
       "      <td>Hyland, Morn (Fictitious character)</td>\n",
       "      <td>http://books.google.com/books/content?id=4oXav...</td>\n",
       "      <td>A new-cover reissue of the fourth book in the ...</td>\n",
       "      <td>1994.0</td>\n",
       "      <td>4.15</td>\n",
       "      <td>743.0</td>\n",
       "      <td>103.0</td>\n",
       "    </tr>\n",
       "    <tr>\n",
       "      <th>3</th>\n",
       "      <td>9780006499626</td>\n",
       "      <td>0006499627</td>\n",
       "      <td>Miss Marple</td>\n",
       "      <td>The Complete Short Stories</td>\n",
       "      <td>Agatha Christie</td>\n",
       "      <td>Detective and mystery stories, English</td>\n",
       "      <td>http://books.google.com/books/content?id=a96qP...</td>\n",
       "      <td>Miss Marple featured in 20 short stories, publ...</td>\n",
       "      <td>1997.0</td>\n",
       "      <td>4.20</td>\n",
       "      <td>359.0</td>\n",
       "      <td>6235.0</td>\n",
       "    </tr>\n",
       "    <tr>\n",
       "      <th>4</th>\n",
       "      <td>9780006551812</td>\n",
       "      <td>0006551815</td>\n",
       "      <td>'Tis</td>\n",
       "      <td>A Memoir</td>\n",
       "      <td>Frank McCourt</td>\n",
       "      <td>Ireland</td>\n",
       "      <td>http://books.google.com/books/content?id=Q3BhQ...</td>\n",
       "      <td>FROM THE PULIZER PRIZE-WINNING AUTHOR OF THE #...</td>\n",
       "      <td>2000.0</td>\n",
       "      <td>3.68</td>\n",
       "      <td>495.0</td>\n",
       "      <td>44179.0</td>\n",
       "    </tr>\n",
       "  </tbody>\n",
       "</table>\n",
       "</div>"
      ],
      "text/plain": [
       "          isbn13      isbn10                   title  \\\n",
       "0  9780002261982  0002261987            Spider's Web   \n",
       "1  9780006380832  0006380832  Empires of the Monsoon   \n",
       "2  9780006470229  000647022X    The Gap Into Madness   \n",
       "3  9780006499626  0006499627             Miss Marple   \n",
       "4  9780006551812  0006551815                    'Tis   \n",
       "\n",
       "                                         subtitle  \\\n",
       "0                                         A Novel   \n",
       "1  A History of the Indian Ocean and Its Invaders   \n",
       "2                                 Chaos and Order   \n",
       "3                      The Complete Short Stories   \n",
       "4                                        A Memoir   \n",
       "\n",
       "                           authors                              categories  \\\n",
       "0  Charles Osborne;Agatha Christie           Detective and mystery stories   \n",
       "1                     Richard Hall                            Africa, East   \n",
       "2             Stephen R. Donaldson     Hyland, Morn (Fictitious character)   \n",
       "3                  Agatha Christie  Detective and mystery stories, English   \n",
       "4                    Frank McCourt                                 Ireland   \n",
       "\n",
       "                                           thumbnail  \\\n",
       "0  http://books.google.com/books/content?id=gA5GP...   \n",
       "1  http://books.google.com/books/content?id=MuPEQ...   \n",
       "2  http://books.google.com/books/content?id=4oXav...   \n",
       "3  http://books.google.com/books/content?id=a96qP...   \n",
       "4  http://books.google.com/books/content?id=Q3BhQ...   \n",
       "\n",
       "                                         description  published_year  \\\n",
       "0  A new 'Christie for Christmas' -- a full-lengt...          2000.0   \n",
       "1  Until Vasco da Gama discovered the sea-route t...          1998.0   \n",
       "2  A new-cover reissue of the fourth book in the ...          1994.0   \n",
       "3  Miss Marple featured in 20 short stories, publ...          1997.0   \n",
       "4  FROM THE PULIZER PRIZE-WINNING AUTHOR OF THE #...          2000.0   \n",
       "\n",
       "   average_rating  num_pages  ratings_count  \n",
       "0            3.83      241.0         5164.0  \n",
       "1            4.41      608.0           65.0  \n",
       "2            4.15      743.0          103.0  \n",
       "3            4.20      359.0         6235.0  \n",
       "4            3.68      495.0        44179.0  "
      ]
     },
     "execution_count": 4,
     "metadata": {},
     "output_type": "execute_result"
    }
   ],
   "source": [
    "df.head()"
   ]
  },
  {
   "cell_type": "code",
   "execution_count": 5,
   "id": "e785c1f5-b0aa-4cfe-8e31-5bb647138076",
   "metadata": {},
   "outputs": [],
   "source": [
    "features = ['title', 'subtitle', 'categories', 'description', 'authors']\n",
    "features_df = df[features]"
   ]
  },
  {
   "cell_type": "code",
   "execution_count": 6,
   "id": "8df9b386-a1d3-40be-a3df-ee645ea28518",
   "metadata": {},
   "outputs": [
    {
     "data": {
      "text/html": [
       "<div>\n",
       "<style scoped>\n",
       "    .dataframe tbody tr th:only-of-type {\n",
       "        vertical-align: middle;\n",
       "    }\n",
       "\n",
       "    .dataframe tbody tr th {\n",
       "        vertical-align: top;\n",
       "    }\n",
       "\n",
       "    .dataframe thead th {\n",
       "        text-align: right;\n",
       "    }\n",
       "</style>\n",
       "<table border=\"1\" class=\"dataframe\">\n",
       "  <thead>\n",
       "    <tr style=\"text-align: right;\">\n",
       "      <th></th>\n",
       "      <th>title</th>\n",
       "      <th>subtitle</th>\n",
       "      <th>categories</th>\n",
       "      <th>description</th>\n",
       "      <th>authors</th>\n",
       "    </tr>\n",
       "  </thead>\n",
       "  <tbody>\n",
       "    <tr>\n",
       "      <th>0</th>\n",
       "      <td>Spider's Web</td>\n",
       "      <td>A Novel</td>\n",
       "      <td>Detective and mystery stories</td>\n",
       "      <td>A new 'Christie for Christmas' -- a full-lengt...</td>\n",
       "      <td>Charles Osborne;Agatha Christie</td>\n",
       "    </tr>\n",
       "    <tr>\n",
       "      <th>1</th>\n",
       "      <td>Empires of the Monsoon</td>\n",
       "      <td>A History of the Indian Ocean and Its Invaders</td>\n",
       "      <td>Africa, East</td>\n",
       "      <td>Until Vasco da Gama discovered the sea-route t...</td>\n",
       "      <td>Richard Hall</td>\n",
       "    </tr>\n",
       "    <tr>\n",
       "      <th>2</th>\n",
       "      <td>The Gap Into Madness</td>\n",
       "      <td>Chaos and Order</td>\n",
       "      <td>Hyland, Morn (Fictitious character)</td>\n",
       "      <td>A new-cover reissue of the fourth book in the ...</td>\n",
       "      <td>Stephen R. Donaldson</td>\n",
       "    </tr>\n",
       "    <tr>\n",
       "      <th>3</th>\n",
       "      <td>Miss Marple</td>\n",
       "      <td>The Complete Short Stories</td>\n",
       "      <td>Detective and mystery stories, English</td>\n",
       "      <td>Miss Marple featured in 20 short stories, publ...</td>\n",
       "      <td>Agatha Christie</td>\n",
       "    </tr>\n",
       "    <tr>\n",
       "      <th>4</th>\n",
       "      <td>'Tis</td>\n",
       "      <td>A Memoir</td>\n",
       "      <td>Ireland</td>\n",
       "      <td>FROM THE PULIZER PRIZE-WINNING AUTHOR OF THE #...</td>\n",
       "      <td>Frank McCourt</td>\n",
       "    </tr>\n",
       "  </tbody>\n",
       "</table>\n",
       "</div>"
      ],
      "text/plain": [
       "                    title                                        subtitle  \\\n",
       "0            Spider's Web                                         A Novel   \n",
       "1  Empires of the Monsoon  A History of the Indian Ocean and Its Invaders   \n",
       "2    The Gap Into Madness                                 Chaos and Order   \n",
       "3             Miss Marple                      The Complete Short Stories   \n",
       "4                    'Tis                                        A Memoir   \n",
       "\n",
       "                               categories  \\\n",
       "0           Detective and mystery stories   \n",
       "1                            Africa, East   \n",
       "2     Hyland, Morn (Fictitious character)   \n",
       "3  Detective and mystery stories, English   \n",
       "4                                 Ireland   \n",
       "\n",
       "                                         description  \\\n",
       "0  A new 'Christie for Christmas' -- a full-lengt...   \n",
       "1  Until Vasco da Gama discovered the sea-route t...   \n",
       "2  A new-cover reissue of the fourth book in the ...   \n",
       "3  Miss Marple featured in 20 short stories, publ...   \n",
       "4  FROM THE PULIZER PRIZE-WINNING AUTHOR OF THE #...   \n",
       "\n",
       "                           authors  \n",
       "0  Charles Osborne;Agatha Christie  \n",
       "1                     Richard Hall  \n",
       "2             Stephen R. Donaldson  \n",
       "3                  Agatha Christie  \n",
       "4                    Frank McCourt  "
      ]
     },
     "execution_count": 6,
     "metadata": {},
     "output_type": "execute_result"
    }
   ],
   "source": [
    "features_df.head()"
   ]
  },
  {
   "cell_type": "code",
   "execution_count": 7,
   "id": "b1f618c7-bc77-4bbb-b365-a24a167f24f0",
   "metadata": {},
   "outputs": [],
   "source": [
    "training = int(0.8*len(features_df))"
   ]
  },
  {
   "cell_type": "code",
   "execution_count": 8,
   "id": "70661cf8-7021-4b3d-9a1d-dc421ddc879a",
   "metadata": {},
   "outputs": [],
   "source": [
    "total = len(features_df)"
   ]
  },
  {
   "cell_type": "code",
   "execution_count": 9,
   "id": "3fe0816c-cb5f-40f9-bfde-31c97f404ebf",
   "metadata": {},
   "outputs": [],
   "source": [
    "from transformers import AutoTokenizer, AutoModel\n",
    "import torch\n",
    "import torch.nn.functional as F"
   ]
  },
  {
   "cell_type": "code",
   "execution_count": 10,
   "id": "dbd736de-922c-41dd-a1ff-e6df290ecf08",
   "metadata": {},
   "outputs": [],
   "source": [
    "# Using https://www.kdnuggets.com/building-a-recommendation-system-with-hugging-face-transformers as a guide here\n",
    "def mean_pooling(model_output, attention_mask):\n",
    "    #First element of model_output contains all token embeddings\n",
    "    token_embeddings = model_output[0] \n",
    "    input_mask_expanded = attention_mask.unsqueeze(-1).expand(token_embeddings.size()).float()\n",
    "    return torch.sum(token_embeddings * input_mask_expanded, 1) / torch.clamp(input_mask_expanded.sum(1), min=1e-9)\n",
    "\n",
    "tokenizer = AutoTokenizer.from_pretrained('sentence-transformers/all-MiniLM-L6-v2')\n",
    "model = AutoModel.from_pretrained('sentence-transformers/all-MiniLM-L6-v2')\n",
    "\n",
    "def get_embeddings(sentences):\n",
    "  encoded_input = tokenizer(sentences, padding=True, truncation=True, return_tensors='pt')\n",
    "\n",
    "  with torch.no_grad():\n",
    "      model_output = model(**encoded_input)\n",
    "\n",
    "  sentence_embeddings = mean_pooling(model_output, encoded_input['attention_mask'])\n",
    "\n",
    "  sentence_embeddings = F.normalize(sentence_embeddings, p=2, dim=1)\n",
    "\n",
    "  return sentence_embeddings"
   ]
  },
  {
   "cell_type": "code",
   "execution_count": 19,
   "id": "faf28ddd-b28a-40c0-9c47-17d474aa4cf4",
   "metadata": {},
   "outputs": [],
   "source": [
    "from sentence_transformers import SentenceTransformer\n",
    "model = SentenceTransformer('sentence-transformers/all-MiniLM-L6-v2')\n",
    "\n",
    "# Adding multiple things to query on\n",
    "title_embeddings = model.encode(features_df['title'].tolist())\n",
    "subtitle_embeddings = model.encode(features_df['subtitle'].tolist())\n",
    "authors_embeddings = model.encode(features_df['authors'].tolist())\n",
    "description_embeddings = model.encode(features_df['description'].tolist())\n",
    "categories_embeddings = model.encode(features_df['categories'].tolist())"
   ]
  },
  {
   "cell_type": "code",
   "execution_count": 12,
   "id": "597ad208-e4bb-4efd-80e8-a30df5360dec",
   "metadata": {},
   "outputs": [],
   "source": [
    "from sklearn.metrics.pairwise import cosine_similarity"
   ]
  },
  {
   "cell_type": "code",
   "execution_count": 13,
   "id": "667cde4e-e8f8-44fa-9de1-a75530a7cf41",
   "metadata": {},
   "outputs": [],
   "source": [
    "def get_recommendations(query, embeddings, df, top_n=5):\n",
    "    query_embedding = model.encode([query])\n",
    "    similarities = cosine_similarity(query_embedding, embeddings)\n",
    "    top_indices = similarities[0].argsort()[-top_n:][::-1]\n",
    "    return df.iloc[top_indices]"
   ]
  },
  {
   "cell_type": "code",
   "execution_count": 14,
   "id": "e735feac-4cc0-41fb-a239-47ed931c1854",
   "metadata": {},
   "outputs": [
    {
     "name": "stdout",
     "output_type": "stream",
     "text": [
      "                       title  \\\n",
      "594      The Dragons of Eden   \n",
      "162        Realms of Dragons   \n",
      "189         American Dragons   \n",
      "1413             Dragonology   \n",
      "916   The Eyes of the Dragon   \n",
      "\n",
      "                                            description  \n",
      "594   The well-known astronomer and astrobiologist s...  \n",
      "162   In the tradition of \"The Wheel of Time, \" this...  \n",
      "189   Includes short stories, poems, and excerpts fr...  \n",
      "1413  Presents an introduction to dragonology that i...  \n",
      "916   After Flagg, the evil court magician, sees a m...  \n"
     ]
    }
   ],
   "source": [
    "query = \"Book about dragons\"\n",
    "recommendations = get_recommendations(query, title_embeddings, features_df)\n",
    "print(recommendations[['title', 'description']])"
   ]
  },
  {
   "cell_type": "code",
   "execution_count": 16,
   "id": "9a8f668b-6624-463e-90d5-cd2de679b4b5",
   "metadata": {},
   "outputs": [
    {
     "name": "stdout",
     "output_type": "stream",
     "text": [
      "                                                  title  \\\n",
      "1820  There's a (slight) Chance I Might be Going to ...   \n",
      "733                                         Toys Go Out   \n",
      "429                                 A Walk in the Woods   \n",
      "5                              A Small Pinch of Weather   \n",
      "248                                      Descent of Man   \n",
      "\n",
      "                                            description               authors  \n",
      "1820  The first novel from the \"New York Times\" best...         Laurie Notaro  \n",
      "733   Six stories relate the adventures of three bes...         Emily Jenkins  \n",
      "429   Traces the author's adventurous trek along the...           Bill Bryson  \n",
      "5     A magical and fantastic collection of early st...            Joan Aiken  \n",
      "248   A mad, hilarious collection of short stories, ...  T. Coraghessan Boyle  \n"
     ]
    }
   ],
   "source": [
    "query = \"Adventure story\"\n",
    "recommendations = get_recommendations(query, description_embeddings, features_df)\n",
    "print(recommendations[['title', 'description', 'authors']])"
   ]
  },
  {
   "cell_type": "code",
   "execution_count": 18,
   "id": "6f81566f-0194-49df-ad8b-83a168168ab6",
   "metadata": {},
   "outputs": [
    {
     "data": {
      "text/plain": [
       "'The first novel from the \"New York Times\" bestselling author of \"The Idiot Girls\\' Action-Adventure Club,\" this is a rollicking tale of small-town peculiarity, dark secrets, and one extraordinary beauty pageant.'"
      ]
     },
     "execution_count": 18,
     "metadata": {},
     "output_type": "execute_result"
    }
   ],
   "source": [
    "df.iloc[1820]['description']"
   ]
  },
  {
   "cell_type": "code",
   "execution_count": null,
   "id": "2f0e518b-04ba-413c-b09c-36f57b70301a",
   "metadata": {},
   "outputs": [],
   "source": []
  }
 ],
 "metadata": {
  "kernelspec": {
   "display_name": "Python 3 (ipykernel)",
   "language": "python",
   "name": "python3"
  },
  "language_info": {
   "codemirror_mode": {
    "name": "ipython",
    "version": 3
   },
   "file_extension": ".py",
   "mimetype": "text/x-python",
   "name": "python",
   "nbconvert_exporter": "python",
   "pygments_lexer": "ipython3",
   "version": "3.11.8"
  }
 },
 "nbformat": 4,
 "nbformat_minor": 5
}
